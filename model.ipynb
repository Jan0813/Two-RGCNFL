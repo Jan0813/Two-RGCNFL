import numpy as np
import torch
import torch.nn as nn
import torch.nn.functional as F
import torch.nn.init as init
import os
import os.path as osp
import pickle
import itertools
import scipy.sparse as sp
import urllib
from collections import namedtuple

def flatten(anomal_list):
    flattened = []
    for item in anomal_list:
        if isinstance(item, list):
            flattened.extend(flatten(item))
        else:
            flattened.append(item)
    return flattened


def sampling(src_nodes, sample_sum, neighbor_table, edge_num):

    Arguments:
        src_nodes {list, ndarray} 
        sample_sum {int}
        neighbor_table {list} 
        edge_num {int}
    Returns:
        np.ndarray 
    """
    results = []
    end_res = [src_nodes]
    for sid in src_nodes:

        neighbor_sum = sum(len(sublist) for sublist in neighbor_table[sid])  
        edge_results = []
        for edge in range(edge_num):
            if len(neighbor_table[sid][edge]) != 0:
                e_num = int((len(neighbor_table[sid][edge]) * 1.0) / (neighbor_sum * 1.0) * sample_sum)  
                res = np.random.choice(neighbor_table[sid][edge], size=(e_num,)) 
                edge_results.append(list(res))  
        # print(edge_results)
        edge_results = flatten(edge_results)
        if len(edge_results) < sample_sum:
            res = np.random.choice(neighbor_table[sid][0], size=(1,))
            edge_results.append(res[0])
        # print(edge_results)
        np.asarray(edge_results)
        results.append(edge_results)
    end_res.append(results)
    return end_res


class NeighborAggregator(nn.Module):
    def __init__(self, input_dim, output_dim,
                 use_bias=False, aggr_method="mean"):

        Args:
            input_dim: 
            output_dim: 
            use_bias: 
            aggr_method:
        """
        super(NeighborAggregator, self).__init__()
        self.input_dim = input_dim
        self.output_dim = output_dim
        self.use_bias = use_bias
        self.aggr_method = aggr_method
        self.weight = nn.Parameter(torch.Tensor(input_dim, output_dim))
        if self.use_bias:
            self.bias = nn.Parameter(torch.Tensor(self.output_dim))
        self.reset_parameters()

    def reset_parameters(self):
        init.kaiming_uniform_(self.weight)
        if self.use_bias:
            init.zeros_(self.bias)

    def forward(self, neighbor_feature): 
        # print(neighbor_feature)
        if self.aggr_method == "mean":
            aggr_neighbor = neighbor_feature.mean(dim=1)
        elif self.aggr_method == "sum":
            aggr_neighbor = neighbor_feature.sum(dim=1)
        elif self.aggr_method == "max":
            aggr_neighbor = neighbor_feature.max(dim=1)
        else:
            raise ValueError("Unknown aggr type, expected sum, max, or mean, but got {}"
                             .format(self.aggr_method)) 

        neighbor_hidden = torch.matmul(aggr_neighbor, self.weight)  

        if self.use_bias:
            neighbor_hidden += self.bias

        return neighbor_hidden  

    def extra_repr(self):
        return 'in_features={}, out_features={}, aggr_method={}'.format(
            self.input_dim, self.output_dim, self.aggr_method)


class SageGCN(nn.Module):
    def __init__(self, input_dim, hidden_dim,
                 activation=F.relu,
                 aggr_neighbor_method="mean",
                 aggr_hidden_method="concat"):

        super(SageGCN, self).__init__()
        assert aggr_neighbor_method in ["mean", "sum", "max"]
        assert aggr_hidden_method in ["sum", "concat"]
        self.input_dim = input_dim
        self.hidden_dim = hidden_dim
        self.aggr_neighbor_method = aggr_neighbor_method
        self.aggr_hidden_method = aggr_hidden_method
        self.activation = activation
        self.aggregator = NeighborAggregator(input_dim, hidden_dim,
                                             aggr_method=aggr_neighbor_method)
        self.b = nn.Parameter(torch.Tensor(input_dim, hidden_dim))
        self.reset_parameters()

    def reset_parameters(self):
        init.kaiming_uniform_(self.b)

    def forward(self, src_node_features, neighbor_node_features): 
        neighbor_hidden = self.aggregator(neighbor_node_features)  
        self_hidden = torch.matmul(src_node_features, self.b) 

        if self.aggr_hidden_method == "sum":
            hidden = self_hidden + neighbor_hidden
        elif self.aggr_hidden_method == "concat":
            hidden = torch.cat([self_hidden, neighbor_hidden], dim=1)
        else:
            raise ValueError("Expected sum or concat, got {}"
                             .format(self.aggr_hidden))

        if self.activation:  
            return self.activation(hidden)
        else:
            return hidden

    def extra_repr(self):
        output_dim = self.hidden_dim if self.aggr_hidden_method == "sum" else self.hidden_dim * 2
        return 'in_features={}, out_features={}, aggr_hidden_method={}'.format(
            self.input_dim, output_dim, self.aggr_hidden_method)


class GraphSage(nn.Module):
    def __init__(self, input_dim, hidden_dim, num_neighbors):
        super(GraphSage, self).__init__()
        self.input_dim = input_dim
        self.hidden_dim = hidden_dim
        self.num_neighbors_list = num_neighbors 
        self.num_layers = 1 
        self.gcn = nn.ModuleList()
        self.gcn.append(SageGCN(input_dim, hidden_dim))

    def forward(self, node_features_list): 
        
        hidden = node_features_list 
        for l in range(self.num_layers):
            next_hidden = []
            gcn = self.gcn[l]
            for hop in range(self.num_layers - l): 
                src_node_features = hidden[hop]  
                src_node_num = len(src_node_features) 

                neighbor_node_features = hidden[hop + 1].view(
                    (src_node_num, self.num_neighbors_list, -1))
                h = gcn(src_node_features, neighbor_node_features) 
                next_hidden.append(h)
            hidden = next_hidden
        return hidden[0] 

    def extra_repr(self):
        return 'in_features={}, num_neighbors_list={}'.format(
            self.input_dim, self.num_neighbors_list
        )
    
